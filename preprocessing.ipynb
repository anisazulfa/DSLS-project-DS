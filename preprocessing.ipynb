{
 "cells": [
  {
   "cell_type": "code",
   "execution_count": 2,
   "metadata": {},
   "outputs": [],
   "source": [
    "import src.util as utils\n",
    "from sklearn.preprocessing import StandardScaler"
   ]
  },
  {
   "attachments": {},
   "cell_type": "markdown",
   "metadata": {},
   "source": [
    "## Load Configuration File"
   ]
  },
  {
   "cell_type": "code",
   "execution_count": 3,
   "metadata": {},
   "outputs": [],
   "source": [
    "config = utils.load_config()"
   ]
  },
  {
   "attachments": {},
   "cell_type": "markdown",
   "metadata": {},
   "source": [
    "## Load Dataset"
   ]
  },
  {
   "cell_type": "code",
   "execution_count": 4,
   "metadata": {},
   "outputs": [],
   "source": [
    "def load_dataset(config_data: dict):\n",
    "    x_train = utils.pickle_load(config_data[\"train_set_path\"][0])\n",
    "    y_train = utils.pickle_load(config_data[\"train_set_path\"][1])\n",
    "    x_test = utils.pickle_load(config_data[\"test_set_path\"][0])\n",
    "    y_test = utils.pickle_load(config_data[\"test_set_path\"][1])\n",
    "\n",
    "    return x_train, x_test, y_train, y_test"
   ]
  },
  {
   "cell_type": "code",
   "execution_count": 5,
   "metadata": {},
   "outputs": [],
   "source": [
    "x_train, x_test, y_train, y_test = load_dataset(config)"
   ]
  },
  {
   "attachments": {},
   "cell_type": "markdown",
   "metadata": {},
   "source": [
    "## Scaling Data"
   ]
  },
  {
   "cell_type": "code",
   "execution_count": 15,
   "metadata": {},
   "outputs": [],
   "source": [
    "def scaler_model(df, config):\n",
    "    scaler = StandardScaler()\n",
    "    scaler.fit(df)\n",
    "    utils.pickle_dump(scaler, config[\"standard_scaler\"]) \n",
    "\n",
    "def scale_data(df, config):\n",
    "    scaler = utils.pickle_load(config[\"standard_scaler\"])\n",
    "    set_x_scaled = scaler.transform(df)\n",
    "\n",
    "    return set_x_scaled"
   ]
  },
  {
   "cell_type": "code",
   "execution_count": 16,
   "metadata": {},
   "outputs": [],
   "source": [
    "scaler_model(x_train, config)\n",
    "X_train_scaled = scale_data(x_train, config)\n",
    "X_test_scaled = scale_data(x_test, config)"
   ]
  },
  {
   "attachments": {},
   "cell_type": "markdown",
   "metadata": {},
   "source": [
    "## Dump Dataset"
   ]
  },
  {
   "cell_type": "code",
   "execution_count": 17,
   "metadata": {},
   "outputs": [],
   "source": [
    "utils.pickle_dump(X_train_scaled, config[\"train_feng_set_path\"][0])\n",
    "utils.pickle_dump(y_train, config[\"train_feng_set_path\"][1])\n",
    "\n",
    "utils.pickle_dump(X_test_scaled, config[\"test_feng_set_path\"][0])\n",
    "utils.pickle_dump(y_test, config[\"test_feng_set_path\"][1])"
   ]
  }
 ],
 "metadata": {
  "kernelspec": {
   "display_name": ".env",
   "language": "python",
   "name": "python3"
  },
  "language_info": {
   "codemirror_mode": {
    "name": "ipython",
    "version": 3
   },
   "file_extension": ".py",
   "mimetype": "text/x-python",
   "name": "python",
   "nbconvert_exporter": "python",
   "pygments_lexer": "ipython3",
   "version": "3.8.10"
  },
  "orig_nbformat": 4,
  "vscode": {
   "interpreter": {
    "hash": "0dacdb1f1bb6b33a05764293681f7a35e18a8c6d375d7bd3e901860a9e8b7fa7"
   }
  }
 },
 "nbformat": 4,
 "nbformat_minor": 2
}
